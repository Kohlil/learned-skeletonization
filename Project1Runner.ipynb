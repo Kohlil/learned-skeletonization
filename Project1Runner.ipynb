{
  "cells": [
    {
      "cell_type": "markdown",
      "metadata": {
        "id": "B3E9xG8_jVNY"
      },
      "source": [
        "# Run the following code blocks to clone the project repository and install its dependencies."
      ]
    },
    {
      "cell_type": "code",
      "execution_count": null,
      "metadata": {
        "id": "C39AvOpCjPVI"
      },
      "outputs": [],
      "source": [
        "%%shell\n",
        "if [ -d \"sample_data\" ]; then\n",
        "  rm -rf sample_data\n",
        "fi\n",
        "\n",
        "if ! [ -f \"learned-skeletonization/README.md\" ]; then\n",
        "  git clone https://github.com/Kohlil/learned-skeletonization.git\n",
        "  cd learned-skeletonization/\n",
        "fi"
      ]
    },
    {
      "cell_type": "code",
      "execution_count": null,
      "metadata": {
        "id": "AHfNTs8-jsTU"
      },
      "outputs": [],
      "source": [
        "%%shell\n",
        "cd learned-skeletonization/\n",
        "./setup.sh"
      ]
    },
    {
      "cell_type": "code",
      "execution_count": null,
      "metadata": {
        "id": "7u36P9TiueH2"
      },
      "outputs": [],
      "source": [
        "# Updates Repository\n",
        "%%shell\n",
        "cd learned-skeletonization/\n",
        "git pull origin main"
      ]
    },
    {
      "cell_type": "code",
      "execution_count": null,
      "metadata": {
        "id": "bfX7nuNAu6pT"
      },
      "outputs": [],
      "source": [
        "# Train Model\n",
        "%%shell\n",
        "cd learned-skeletonization/\n",
        "python train.py"
      ]
    },
    {
      "cell_type": "code",
      "execution_count": null,
      "metadata": {
        "colab": {
          "background_save": true
        },
        "id": "yBXXRByuvB1t",
        "collapsed": true
      },
      "outputs": [],
      "source": [
        "# Run Ablation Study\n",
        "%%shell\n",
        "cd learned-skeletonization/\n",
        "SAVE_DIR=/content/drive/MyDrive/skeletonization_output2 python train.py --ablation"
      ]
    },
    {
      "cell_type": "code",
      "execution_count": null,
      "metadata": {
        "id": "ReUILb2fvHZ7"
      },
      "outputs": [],
      "source": [
        "# Test Model\n",
        "%%shell\n",
        "cd learned-skeletonization/\n",
        "python test.py"
      ]
    }
  ],
  "metadata": {
    "accelerator": "GPU",
    "colab": {
      "gpuType": "A100",
      "machine_shape": "hm",
      "toc_visible": true,
      "provenance": []
    },
    "kernelspec": {
      "display_name": "Python 3",
      "name": "python3"
    },
    "language_info": {
      "name": "python"
    }
  },
  "nbformat": 4,
  "nbformat_minor": 0
}